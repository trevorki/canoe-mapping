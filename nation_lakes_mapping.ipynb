{
 "cells": [
  {
   "cell_type": "markdown",
   "id": "d924f24f-59b0-40a1-9a6b-95c8702ccc5e",
   "metadata": {},
   "source": [
    "# Making maps with Folium"
   ]
  },
  {
   "cell_type": "code",
   "execution_count": 1,
   "id": "6d9d3a68-94c6-48aa-b4aa-7c3f21567715",
   "metadata": {},
   "outputs": [
    {
     "name": "stdout",
     "output_type": "stream",
     "text": [
      "/Users/trevorkinsey/reliance/trevor/mapping\n"
     ]
    }
   ],
   "source": [
    "!pwd"
   ]
  },
  {
   "cell_type": "code",
   "execution_count": 3,
   "id": "effc50c8-b4c0-4136-a57b-dbcaaa25b372",
   "metadata": {},
   "outputs": [],
   "source": [
    "import pandas as pd\n",
    "import requests\n",
    "import json\n",
    "import folium\n",
    "from folium.features import DivIcon\n",
    "import overpy\n",
    "import geopandas as gpd\n",
    "import contextily as cx\n",
    "\n",
    "from tqdm import tqdm\n",
    "\n",
    "%matplotlib inline\n",
    "import numpy as np\n",
    "import matplotlib.pyplot as plt\n",
    "\n",
    "api = overpy.Overpass()\n",
    "\n",
    "def get_nwr_in_bbox(south,west,north,east,key=None, value=None):\n",
    "    \"\"\"Gets all Nodes, Ways, Relations inside bounding box with key:value\n",
    "    PARAMETERS:\n",
    "        south,\n",
    "        west,\n",
    "        north,\n",
    "        east,\n",
    "        key\n",
    "        value\n",
    "    \"\"\"\n",
    "    if (key,value) != (None,None):\n",
    "        query = f\"\"\"\n",
    "        [out:json];\n",
    "        nwr[\"{key}\"=\"{value}\"] ({south},{west},{north},{east});\n",
    "        (._;>;);\n",
    "        out body;\"\"\"\n",
    "    else:\n",
    "        query = f\"\"\"\n",
    "        [out:json];\n",
    "        nwr ({south},{west},{north},{east});\n",
    "        (._;>;);\n",
    "        out body;\"\"\"\n",
    "    result = api.query(query)\n",
    "    return result"
   ]
  },
  {
   "cell_type": "code",
   "execution_count": 4,
   "id": "a0f7ace9-d3b8-4f1c-bd90-5b02bdfa6c58",
   "metadata": {},
   "outputs": [],
   "source": [
    "# key=\"tourism\"\n",
    "# value=\"camp_site\"\n",
    "# result = get_nwr_in_bbox(lake[\"south\"],lake[\"west\"],lake[\"north\"],lake[\"east\"], key, value)\n",
    "# len(result.nodes)"
   ]
  },
  {
   "cell_type": "code",
   "execution_count": 5,
   "id": "afac630c-a1bc-49c7-9c10-7a49c827b4ac",
   "metadata": {},
   "outputs": [],
   "source": [
    "# # get ALL nodes, ways, relations\n",
    "# key=None\n",
    "# value=None\n",
    "# # result = get_nwr_in_bbox(lake[\"south\"],lake[\"west\"],lake[\"north\"],lake[\"east\"], key, value)\n",
    "# nodes = result.nodes\n",
    "# ways = result.ways\n",
    "# relations = result.relations\n",
    "# print(f\"{len(nodes)} nodes\")\n",
    "# print(f\"{len(ways)} ways\")\n",
    "# print(f\"{len(relations)} relations\")"
   ]
  },
  {
   "cell_type": "code",
   "execution_count": 6,
   "id": "c40b8b16-539d-475d-abfe-98c7421e52a4",
   "metadata": {},
   "outputs": [],
   "source": [
    "# # get all nodes and their tags (for those with tags)\n",
    "# node_tags = {}\n",
    "# for node in result.get_nodes():\n",
    "#     if node.tags!={}:\n",
    "#         node_tags[node.id] = node.tags\n",
    "#         # print(node.id, node.tags)\n",
    "# node_tags"
   ]
  },
  {
   "cell_type": "code",
   "execution_count": 7,
   "id": "52deaeb2-c085-441f-aa40-3c93c203e823",
   "metadata": {},
   "outputs": [],
   "source": [
    "def get_unique_tags(items):\n",
    "    tags = {}\n",
    "    for item in items:\n",
    "        if item.tags!={}:\n",
    "            for key,value in item.tags.items():\n",
    "                if key not in tags:\n",
    "                    tags[key] = [value]\n",
    "                elif value not in tags[key]:\n",
    "                    tags[key].append(value)\n",
    "    return tags"
   ]
  },
  {
   "cell_type": "code",
   "execution_count": 23,
   "id": "616a19ab-069d-4697-8ec7-a3e6c1a5a121",
   "metadata": {},
   "outputs": [
    {
     "data": {
      "text/plain": [
       "{'tourism': ['camp_site'],\n",
       " 'name': ['Ahdatay',\n",
       "  'Ahdatay Creek Provincial Site',\n",
       "  \"Miner's Camp\",\n",
       "  'Pine Point',\n",
       "  'Progress Point',\n",
       "  'Tchentlo Hot Springs Campsite',\n",
       "  \"Larry's Point\",\n",
       "  'Tchentlo']}"
      ]
     },
     "execution_count": 23,
     "metadata": {},
     "output_type": "execute_result"
    }
   ],
   "source": [
    "node_tags = get_unique_tags(result.get_nodes())\n",
    "node_tags"
   ]
  },
  {
   "cell_type": "code",
   "execution_count": 9,
   "id": "18b479ab-bd3c-442d-99d3-5273e1453e62",
   "metadata": {},
   "outputs": [
    {
     "ename": "NameError",
     "evalue": "name 'result' is not defined",
     "output_type": "error",
     "traceback": [
      "\u001b[0;31m---------------------------------------------------------------------------\u001b[0m",
      "\u001b[0;31mNameError\u001b[0m                                 Traceback (most recent call last)",
      "Cell \u001b[0;32mIn[9], line 1\u001b[0m\n\u001b[0;32m----> 1\u001b[0m way_tags \u001b[38;5;241m=\u001b[39m get_unique_tags(\u001b[43mresult\u001b[49m\u001b[38;5;241m.\u001b[39mget_ways())\n\u001b[1;32m      2\u001b[0m way_tags\n",
      "\u001b[0;31mNameError\u001b[0m: name 'result' is not defined"
     ]
    }
   ],
   "source": [
    "way_tags = get_unique_tags(result.get_ways())\n",
    "way_tags"
   ]
  },
  {
   "cell_type": "code",
   "execution_count": 22,
   "id": "f9cb759f-ec4e-4fb6-bc11-0c4e778a0f3f",
   "metadata": {},
   "outputs": [
    {
     "data": {
      "text/plain": [
       "{}"
      ]
     },
     "execution_count": 22,
     "metadata": {},
     "output_type": "execute_result"
    }
   ],
   "source": [
    "relation_tags = get_unique_tags(result.get_relations())\n",
    "relation_tags"
   ]
  },
  {
   "cell_type": "code",
   "execution_count": 8,
   "id": "300000c3-9d9e-4dbc-bc82-d60d390be3c8",
   "metadata": {},
   "outputs": [],
   "source": [
    "# get all tag keys and values\n",
    "tags = {}\n",
    "for item in result.get_nodes():\n",
    "    if item.tags!={}:\n",
    "        for key,value in item.tags.items():\n",
    "            if key not in tags:\n",
    "                tags[key] = [value]\n",
    "            elif value not in tags[key]:\n",
    "                tags[key].append(value)\n",
    "print(json.dumps(tags, indent = 4))"
   ]
  },
  {
   "cell_type": "code",
   "execution_count": 9,
   "id": "24e1982e-3b2e-4bab-a5a6-c3462499496a",
   "metadata": {},
   "outputs": [],
   "source": [
    "# for way in result.get_ways()[0:200]:\n",
    "#     if way.tags!={}:\n",
    "#         print(way.id, way.tags)"
   ]
  },
  {
   "cell_type": "code",
   "execution_count": 10,
   "id": "fdaa7323-ee4a-430f-b9bf-b5db0e29e2ba",
   "metadata": {},
   "outputs": [],
   "source": [
    "# for relation in result.get_relations():\n",
    "#     if relation.tags!={}:\n",
    "#         print(relation.id, relation.tags)"
   ]
  },
  {
   "cell_type": "code",
   "execution_count": 11,
   "id": "733835f9-04aa-451f-9712-ecf6375c7ebe",
   "metadata": {},
   "outputs": [],
   "source": [
    "# # build a dict of nodes (lon,lat) for each way\n",
    "# waydict={}\n",
    "# for way in result.get_ways():\n",
    "#     nodes = way.get_nodes(resolve_missing=True)\n",
    "#     nodelist=[]\n",
    "#     for node in nodes:\n",
    "#         nodelist.append([float(node.lon), float(node.lat)])\n",
    "#     waydict[way.id]=nodelist\n",
    "\n",
    "# keys = list(waydict.keys())\n",
    "# waydict[keys[0]]"
   ]
  },
  {
   "cell_type": "code",
   "execution_count": null,
   "id": "5c74b2c2-70d6-43c8-8297-caff0f536b24",
   "metadata": {},
   "outputs": [],
   "source": []
  },
  {
   "cell_type": "code",
   "execution_count": null,
   "id": "69497068-67e3-4b10-948c-9ef769a54891",
   "metadata": {},
   "outputs": [],
   "source": []
  },
  {
   "cell_type": "code",
   "execution_count": 13,
   "id": "61728976-77a9-4aff-b3e2-0779833d0770",
   "metadata": {},
   "outputs": [
    {
     "ename": "TypeError",
     "evalue": "write() argument must be str, not bytes",
     "output_type": "error",
     "traceback": [
      "\u001b[0;31m---------------------------------------------------------------------------\u001b[0m",
      "\u001b[0;31mTypeError\u001b[0m                                 Traceback (most recent call last)",
      "Cell \u001b[0;32mIn[13], line 58\u001b[0m\n\u001b[1;32m     56\u001b[0m \u001b[38;5;66;03m# Load nation lakes    \u001b[39;00m\n\u001b[1;32m     57\u001b[0m \u001b[38;5;28;01mwith\u001b[39;00m \u001b[38;5;28mopen\u001b[39m(\u001b[38;5;124m\"\u001b[39m\u001b[38;5;124mtiles.pkl\u001b[39m\u001b[38;5;124m\"\u001b[39m, \u001b[38;5;124m\"\u001b[39m\u001b[38;5;124mw\u001b[39m\u001b[38;5;124m\"\u001b[39m) \u001b[38;5;28;01mas\u001b[39;00m f:\n\u001b[0;32m---> 58\u001b[0m     \u001b[43mdump\u001b[49m\u001b[43m(\u001b[49m\u001b[43mtiles\u001b[49m\u001b[43m,\u001b[49m\u001b[43m \u001b[49m\u001b[43mf\u001b[49m\u001b[43m)\u001b[49m\n\u001b[1;32m     59\u001b[0m tiles\n",
      "\u001b[0;31mTypeError\u001b[0m: write() argument must be str, not bytes"
     ]
    }
   ],
   "source": [
    "def build_tiles():\n",
    "    # folium tile layers\n",
    "    tiles = {\n",
    "        'Google Maps': folium.TileLayer(\n",
    "            tiles = 'https://mt1.google.com/vt/lyrs=m&x={x}&y={y}&z={z}',\n",
    "            attr = 'Google', name = 'Google Maps', \n",
    "            overlay = False, control = True, show = True\n",
    "        ),\n",
    "        'Google Satellite': folium.TileLayer(\n",
    "            tiles = 'https://mt1.google.com/vt/lyrs=s&x={x}&y={y}&z={z}',\n",
    "            attr = 'Google', name = 'Google Satellite', \n",
    "            overlay = False, control = True, show = True\n",
    "        ),\n",
    "        'Google Terrain': folium.TileLayer(\n",
    "            tiles = 'https://mt1.google.com/vt/lyrs=p&x={x}&y={y}&z={z}',\n",
    "            attr = 'Google', name = 'Google Terrain', \n",
    "            overlay = False, control = True, show = True\n",
    "        ),\n",
    "        'Google Satellite Hybrid': folium.TileLayer(\n",
    "            tiles = 'https://mt1.google.com/vt/lyrs=y&x={x}&y={y}&z={z}',\n",
    "            attr = 'Google', name = 'Google Satellite',\n",
    "            overlay = False, control = True, show = True\n",
    "        ),\n",
    "        'Esri Satellite': folium.TileLayer(\n",
    "            tiles = 'https://server.arcgisonline.com/ArcGIS/rest/services/World_Imagery/MapServer/tile/{z}/{y}/{x}',\n",
    "            attr = 'Esri', name = 'Esri Satellite',\n",
    "            overlay = False, control = True, show = True\n",
    "        ),\n",
    "        'cartodbpositron': folium.TileLayer(\n",
    "            tiles = 'cartodbpositron',\n",
    "            overlay = False, control = True, show = True\n",
    "        )\n",
    "    }\n",
    "\n",
    "\n",
    "    with open(\"stamen_api.json\") as f:\n",
    "        stamen = json.load(f)\n",
    "\n",
    "    stamen_tiles = {name:folium.TileLayer(\n",
    "        tiles = stamen[\"tiles\"][name],\n",
    "        attr = stamen[\"attribution\"], \n",
    "        name = name,\n",
    "        overlay = False, \n",
    "        control = True,\n",
    "        show = True\n",
    "    ) for name in stamen[\"tiles\"]}\n",
    "\n",
    "    tiles = tiles|stamen_tiles\n",
    "    return tiles\n",
    "\n",
    "tiles = build_tiles()\n",
    "tile_names = list(tiles.keys())\n",
    "tile_names\n",
    "\n",
    "\n",
    "# Load nation lakes    \n",
    "with open(\"tiles.pkl\", \"w\") as f:\n",
    "    dump(tiles, f)\n",
    "tiles"
   ]
  },
  {
   "cell_type": "markdown",
   "id": "34afc4cb-beca-499d-bbe1-37c4e8b346af",
   "metadata": {},
   "source": [
    "# Get lake bounding boxes"
   ]
  },
  {
   "cell_type": "code",
   "execution_count": 16,
   "id": "a8412723-b992-4160-ab55-df31c6fdb077",
   "metadata": {},
   "outputs": [],
   "source": [
    "lakes = [\n",
    "    {\n",
    "        \"name\": \"Tsayta Lake\",\n",
    "        \"north\": 55.48292, \n",
    "        \"west\": -125.6440,\n",
    "        \"south\": 55.41749450097668, \n",
    "        \"east\": -125.31534497067527,\n",
    "    },\n",
    "    {\n",
    "        \"name\": \"Indata Lake\",\n",
    "        \"north\": 55.3925, \n",
    "        \"west\": -125.32,\n",
    "        \"south\": 55.292, \n",
    "        \"east\": -125.2175,\n",
    "    },\n",
    "    {\n",
    "        \"name\": \"Tchentlo Lake\",\n",
    "        \"north\": 55.27724688304605, \n",
    "        \"west\": -125.2879216313345,\n",
    "        \"south\": 55.164542941519294, \n",
    "        \"east\": -124.75996931606227,\n",
    "    },\n",
    "    {\n",
    "        \"name\": \"Chuchi Lake\",\n",
    "        \"north\": 55.22210608559387, \n",
    "        \"west\": -124.76407610865795,\n",
    "        \"south\": 55.14837905899054, \n",
    "        \"east\": -124.31095886659628,\n",
    "    }\n",
    "]\n",
    "# get coordinates of lake centre \n",
    "for lake in lakes:\n",
    "    lake[\"lat\"] = (lake[\"north\"] + lake[\"south\"])/2\n",
    "    lake[\"lon\"] = (lake[\"east\"] + lake[\"west\"])/2"
   ]
  },
  {
   "cell_type": "code",
   "execution_count": 17,
   "id": "63098c6b-84c0-4840-ab43-78d991a776f3",
   "metadata": {},
   "outputs": [
    {
     "data": {
      "text/html": [
       "<div>\n",
       "<style scoped>\n",
       "    .dataframe tbody tr th:only-of-type {\n",
       "        vertical-align: middle;\n",
       "    }\n",
       "\n",
       "    .dataframe tbody tr th {\n",
       "        vertical-align: top;\n",
       "    }\n",
       "\n",
       "    .dataframe thead th {\n",
       "        text-align: right;\n",
       "    }\n",
       "</style>\n",
       "<table border=\"1\" class=\"dataframe\">\n",
       "  <thead>\n",
       "    <tr style=\"text-align: right;\">\n",
       "      <th></th>\n",
       "      <th>name</th>\n",
       "      <th>north</th>\n",
       "      <th>west</th>\n",
       "      <th>south</th>\n",
       "      <th>east</th>\n",
       "      <th>lat</th>\n",
       "      <th>lon</th>\n",
       "      <th>geometry</th>\n",
       "    </tr>\n",
       "  </thead>\n",
       "  <tbody>\n",
       "    <tr>\n",
       "      <th>0</th>\n",
       "      <td>Tsayta Lake</td>\n",
       "      <td>55.482920</td>\n",
       "      <td>-125.644000</td>\n",
       "      <td>55.417495</td>\n",
       "      <td>-125.315345</td>\n",
       "      <td>55.450207</td>\n",
       "      <td>-125.479672</td>\n",
       "      <td>POINT (-125.47967 55.45021)</td>\n",
       "    </tr>\n",
       "    <tr>\n",
       "      <th>1</th>\n",
       "      <td>Indata Lake</td>\n",
       "      <td>55.392500</td>\n",
       "      <td>-125.320000</td>\n",
       "      <td>55.292000</td>\n",
       "      <td>-125.217500</td>\n",
       "      <td>55.342250</td>\n",
       "      <td>-125.268750</td>\n",
       "      <td>POINT (-125.26875 55.34225)</td>\n",
       "    </tr>\n",
       "    <tr>\n",
       "      <th>2</th>\n",
       "      <td>Tchentlo Lake</td>\n",
       "      <td>55.277247</td>\n",
       "      <td>-125.287922</td>\n",
       "      <td>55.164543</td>\n",
       "      <td>-124.759969</td>\n",
       "      <td>55.220895</td>\n",
       "      <td>-125.023945</td>\n",
       "      <td>POINT (-125.02395 55.22089)</td>\n",
       "    </tr>\n",
       "    <tr>\n",
       "      <th>3</th>\n",
       "      <td>Chuchi Lake</td>\n",
       "      <td>55.222106</td>\n",
       "      <td>-124.764076</td>\n",
       "      <td>55.148379</td>\n",
       "      <td>-124.310959</td>\n",
       "      <td>55.185243</td>\n",
       "      <td>-124.537517</td>\n",
       "      <td>POINT (-124.53752 55.18524)</td>\n",
       "    </tr>\n",
       "  </tbody>\n",
       "</table>\n",
       "</div>"
      ],
      "text/plain": [
       "            name      north        west      south        east        lat  \\\n",
       "0    Tsayta Lake  55.482920 -125.644000  55.417495 -125.315345  55.450207   \n",
       "1    Indata Lake  55.392500 -125.320000  55.292000 -125.217500  55.342250   \n",
       "2  Tchentlo Lake  55.277247 -125.287922  55.164543 -124.759969  55.220895   \n",
       "3    Chuchi Lake  55.222106 -124.764076  55.148379 -124.310959  55.185243   \n",
       "\n",
       "          lon                     geometry  \n",
       "0 -125.479672  POINT (-125.47967 55.45021)  \n",
       "1 -125.268750  POINT (-125.26875 55.34225)  \n",
       "2 -125.023945  POINT (-125.02395 55.22089)  \n",
       "3 -124.537517  POINT (-124.53752 55.18524)  "
      ]
     },
     "execution_count": 17,
     "metadata": {},
     "output_type": "execute_result"
    }
   ],
   "source": [
    "df = pd.DataFrame(lakes)\n",
    "gdf = gpd.GeoDataFrame(df, geometry=gpd.points_from_xy(df.lon, df.lat))\n",
    "gdf.crs = \"WGS84\" # web mercator 'EPSG:4326'\n",
    "gdf.head()"
   ]
  },
  {
   "cell_type": "code",
   "execution_count": 18,
   "id": "6ff785ca-ca55-468e-be66-fafc5de97514",
   "metadata": {},
   "outputs": [
    {
     "name": "stdout",
     "output_type": "stream",
     "text": [
      "tiles: ['Google Maps', 'Google Satellite', 'Google Terrain', 'Google Satellite Hybrid', 'Esri Satellite', 'cartodbpositron', 'Stamen Toner', 'Stamen Toner Lite', 'Stamen Terrain', 'Stamen Watercolor']\n"
     ]
    }
   ],
   "source": [
    "print(f\"tiles: {list(tiles.keys())}\")"
   ]
  },
  {
   "cell_type": "code",
   "execution_count": 19,
   "id": "599e5590-e06c-491a-aaa6-a494cc643c9d",
   "metadata": {},
   "outputs": [
    {
     "name": "stdout",
     "output_type": "stream",
     "text": [
      "zoom_level=13\n",
      "18 nodes\n"
     ]
    },
    {
     "data": {
      "text/html": [
       "<div style=\"width:100%;\"><div style=\"position:relative;width:100%;height:0;padding-bottom:60%;\"><span style=\"color:#565656\">Make this Notebook Trusted to load map: File -> Trust Notebook</span><iframe srcdoc=\"&lt;!DOCTYPE html&gt;\n",
       "&lt;html&gt;\n",
       "&lt;head&gt;\n",
       "    \n",
       "    &lt;meta http-equiv=&quot;content-type&quot; content=&quot;text/html; charset=UTF-8&quot; /&gt;\n",
       "    \n",
       "        &lt;script&gt;\n",
       "            L_NO_TOUCH = false;\n",
       "            L_DISABLE_3D = false;\n",
       "        &lt;/script&gt;\n",
       "    \n",
       "    &lt;style&gt;html, body {width: 100%;height: 100%;margin: 0;padding: 0;}&lt;/style&gt;\n",
       "    &lt;style&gt;#map {position:absolute;top:0;bottom:0;right:0;left:0;}&lt;/style&gt;\n",
       "    &lt;script src=&quot;https://cdn.jsdelivr.net/npm/leaflet@1.9.3/dist/leaflet.js&quot;&gt;&lt;/script&gt;\n",
       "    &lt;script src=&quot;https://code.jquery.com/jquery-1.12.4.min.js&quot;&gt;&lt;/script&gt;\n",
       "    &lt;script src=&quot;https://cdn.jsdelivr.net/npm/bootstrap@5.2.2/dist/js/bootstrap.bundle.min.js&quot;&gt;&lt;/script&gt;\n",
       "    &lt;script src=&quot;https://cdnjs.cloudflare.com/ajax/libs/Leaflet.awesome-markers/2.0.2/leaflet.awesome-markers.js&quot;&gt;&lt;/script&gt;\n",
       "    &lt;link rel=&quot;stylesheet&quot; href=&quot;https://cdn.jsdelivr.net/npm/leaflet@1.9.3/dist/leaflet.css&quot;/&gt;\n",
       "    &lt;link rel=&quot;stylesheet&quot; href=&quot;https://cdn.jsdelivr.net/npm/bootstrap@5.2.2/dist/css/bootstrap.min.css&quot;/&gt;\n",
       "    &lt;link rel=&quot;stylesheet&quot; href=&quot;https://netdna.bootstrapcdn.com/bootstrap/3.0.0/css/bootstrap.min.css&quot;/&gt;\n",
       "    &lt;link rel=&quot;stylesheet&quot; href=&quot;https://cdn.jsdelivr.net/npm/@fortawesome/fontawesome-free@6.2.0/css/all.min.css&quot;/&gt;\n",
       "    &lt;link rel=&quot;stylesheet&quot; href=&quot;https://cdnjs.cloudflare.com/ajax/libs/Leaflet.awesome-markers/2.0.2/leaflet.awesome-markers.css&quot;/&gt;\n",
       "    &lt;link rel=&quot;stylesheet&quot; href=&quot;https://cdn.jsdelivr.net/gh/python-visualization/folium/folium/templates/leaflet.awesome.rotate.min.css&quot;/&gt;\n",
       "    \n",
       "            &lt;meta name=&quot;viewport&quot; content=&quot;width=device-width,\n",
       "                initial-scale=1.0, maximum-scale=1.0, user-scalable=no&quot; /&gt;\n",
       "            &lt;style&gt;\n",
       "                #map_7d80b8abd81f06848646c46c9cd74c10 {\n",
       "                    position: relative;\n",
       "                    width: 100.0%;\n",
       "                    height: 100.0%;\n",
       "                    left: 0.0%;\n",
       "                    top: 0.0%;\n",
       "                }\n",
       "                .leaflet-container { font-size: 1rem; }\n",
       "            &lt;/style&gt;\n",
       "        \n",
       "&lt;/head&gt;\n",
       "&lt;body&gt;\n",
       "    \n",
       "    \n",
       "            &lt;div class=&quot;folium-map&quot; id=&quot;map_7d80b8abd81f06848646c46c9cd74c10&quot; &gt;&lt;/div&gt;\n",
       "        \n",
       "&lt;/body&gt;\n",
       "&lt;script&gt;\n",
       "    \n",
       "    \n",
       "            var map_7d80b8abd81f06848646c46c9cd74c10 = L.map(\n",
       "                &quot;map_7d80b8abd81f06848646c46c9cd74c10&quot;,\n",
       "                {\n",
       "                    center: [55.220894912282674, -125.02394547369838],\n",
       "                    crs: L.CRS.EPSG3857,\n",
       "                    zoom: 11,\n",
       "                    zoomControl: false,\n",
       "                    preferCanvas: false,\n",
       "                }\n",
       "            );\n",
       "            L.control.scale().addTo(map_7d80b8abd81f06848646c46c9cd74c10);\n",
       "\n",
       "            \n",
       "\n",
       "        \n",
       "    \n",
       "            var tile_layer_ce1acaf216c4d38220f31a2b9e5a1a3a = L.tileLayer(\n",
       "                &quot;https://mt1.google.com/vt/lyrs=m\\u0026x={x}\\u0026y={y}\\u0026z={z}&quot;,\n",
       "                {&quot;attribution&quot;: &quot;Google&quot;, &quot;detectRetina&quot;: false, &quot;maxNativeZoom&quot;: 18, &quot;maxZoom&quot;: 18, &quot;minZoom&quot;: 0, &quot;noWrap&quot;: false, &quot;opacity&quot;: 1, &quot;subdomains&quot;: &quot;abc&quot;, &quot;tms&quot;: false}\n",
       "            ).addTo(map_7d80b8abd81f06848646c46c9cd74c10);\n",
       "        \n",
       "    \n",
       "            var tile_layer_3566914d767fa0471f661be4822cf8b9 = L.tileLayer(\n",
       "                &quot;https://mt1.google.com/vt/lyrs=s\\u0026x={x}\\u0026y={y}\\u0026z={z}&quot;,\n",
       "                {&quot;attribution&quot;: &quot;Google&quot;, &quot;detectRetina&quot;: false, &quot;maxNativeZoom&quot;: 18, &quot;maxZoom&quot;: 18, &quot;minZoom&quot;: 0, &quot;noWrap&quot;: false, &quot;opacity&quot;: 1, &quot;subdomains&quot;: &quot;abc&quot;, &quot;tms&quot;: false}\n",
       "            ).addTo(map_7d80b8abd81f06848646c46c9cd74c10);\n",
       "        \n",
       "    \n",
       "            var tile_layer_114ac19a7d3a03da7ef5b292f4490559 = L.tileLayer(\n",
       "                &quot;https://mt1.google.com/vt/lyrs=p\\u0026x={x}\\u0026y={y}\\u0026z={z}&quot;,\n",
       "                {&quot;attribution&quot;: &quot;Google&quot;, &quot;detectRetina&quot;: false, &quot;maxNativeZoom&quot;: 18, &quot;maxZoom&quot;: 18, &quot;minZoom&quot;: 0, &quot;noWrap&quot;: false, &quot;opacity&quot;: 1, &quot;subdomains&quot;: &quot;abc&quot;, &quot;tms&quot;: false}\n",
       "            ).addTo(map_7d80b8abd81f06848646c46c9cd74c10);\n",
       "        \n",
       "    \n",
       "            var tile_layer_4bbca2b7a8047294eaa50a6edd41829b = L.tileLayer(\n",
       "                &quot;https://mt1.google.com/vt/lyrs=y\\u0026x={x}\\u0026y={y}\\u0026z={z}&quot;,\n",
       "                {&quot;attribution&quot;: &quot;Google&quot;, &quot;detectRetina&quot;: false, &quot;maxNativeZoom&quot;: 18, &quot;maxZoom&quot;: 18, &quot;minZoom&quot;: 0, &quot;noWrap&quot;: false, &quot;opacity&quot;: 1, &quot;subdomains&quot;: &quot;abc&quot;, &quot;tms&quot;: false}\n",
       "            ).addTo(map_7d80b8abd81f06848646c46c9cd74c10);\n",
       "        \n",
       "    \n",
       "            var tile_layer_c8fb2c2c7c96c92e2b40762a7e906244 = L.tileLayer(\n",
       "                &quot;https://server.arcgisonline.com/ArcGIS/rest/services/World_Imagery/MapServer/tile/{z}/{y}/{x}&quot;,\n",
       "                {&quot;attribution&quot;: &quot;Esri&quot;, &quot;detectRetina&quot;: false, &quot;maxNativeZoom&quot;: 18, &quot;maxZoom&quot;: 18, &quot;minZoom&quot;: 0, &quot;noWrap&quot;: false, &quot;opacity&quot;: 1, &quot;subdomains&quot;: &quot;abc&quot;, &quot;tms&quot;: false}\n",
       "            ).addTo(map_7d80b8abd81f06848646c46c9cd74c10);\n",
       "        \n",
       "    \n",
       "            var tile_layer_b05ee8bcd367bdcbb9401966f6bb0b6c = L.tileLayer(\n",
       "                &quot;https://cartodb-basemaps-{s}.global.ssl.fastly.net/light_all/{z}/{x}/{y}.png&quot;,\n",
       "                {&quot;attribution&quot;: &quot;\\u0026copy; \\u003ca target=\\&quot;_blank\\&quot; href=\\&quot;http://www.openstreetmap.org/copyright\\&quot;\\u003eOpenStreetMap\\u003c/a\\u003e contributors \\u0026copy; \\u003ca target=\\&quot;_blank\\&quot; href=\\&quot;http://cartodb.com/attributions\\&quot;\\u003eCartoDB\\u003c/a\\u003e, CartoDB \\u003ca target=\\&quot;_blank\\&quot; href =\\&quot;http://cartodb.com/attributions\\&quot;\\u003eattributions\\u003c/a\\u003e&quot;, &quot;detectRetina&quot;: false, &quot;maxNativeZoom&quot;: 18, &quot;maxZoom&quot;: 18, &quot;minZoom&quot;: 0, &quot;noWrap&quot;: false, &quot;opacity&quot;: 1, &quot;subdomains&quot;: &quot;abc&quot;, &quot;tms&quot;: false}\n",
       "            ).addTo(map_7d80b8abd81f06848646c46c9cd74c10);\n",
       "        \n",
       "    \n",
       "            var tile_layer_cd6ae043bd6366cbc8e612284d66b071 = L.tileLayer(\n",
       "                &quot;https://tiles.stadiamaps.com/tiles/stamen_toner/{z}/{x}/{y}{r}.png?api_key=87e81a5a-4136-409e-92dd-10c6a1a3cb9d&quot;,\n",
       "                {&quot;attribution&quot;: &quot;\\u0026copy; \\u003ca href=\\&quot;https://www.stadiamaps.com/\\&quot; target=\\&quot;_blank\\&quot;\\u003eStadia Maps\\u003c/a\\u003e \\u0026copy; \\u003ca href=\\&quot;https://www.stamen.com/\\&quot; target=\\&quot;_blank\\&quot;\\u003eStamen Design\\u003c/a\\u003e \\u0026copy; \\u003ca href=\\&quot;https://openmaptiles.org/\\&quot; target=\\&quot;_blank\\&quot;\\u003eOpenMapTiles\\u003c/a\\u003e \\u0026copy; \\u003ca href=\\&quot;https://www.openstreetmap.org/about/\\&quot; target=\\&quot;_blank\\&quot;\\u003eOpenStreetMap contributors\\u003c/a\\u003e&quot;, &quot;detectRetina&quot;: false, &quot;maxNativeZoom&quot;: 18, &quot;maxZoom&quot;: 18, &quot;minZoom&quot;: 0, &quot;noWrap&quot;: false, &quot;opacity&quot;: 1, &quot;subdomains&quot;: &quot;abc&quot;, &quot;tms&quot;: false}\n",
       "            ).addTo(map_7d80b8abd81f06848646c46c9cd74c10);\n",
       "        \n",
       "    \n",
       "            var tile_layer_4259c14eef6565d924cea21e134ba2d3 = L.tileLayer(\n",
       "                &quot;https://tiles.stadiamaps.com/tiles/stamen_toner_lite/{z}/{x}/{y}{r}.png?api_key=87e81a5a-4136-409e-92dd-10c6a1a3cb9d &quot;,\n",
       "                {&quot;attribution&quot;: &quot;\\u0026copy; \\u003ca href=\\&quot;https://www.stadiamaps.com/\\&quot; target=\\&quot;_blank\\&quot;\\u003eStadia Maps\\u003c/a\\u003e \\u0026copy; \\u003ca href=\\&quot;https://www.stamen.com/\\&quot; target=\\&quot;_blank\\&quot;\\u003eStamen Design\\u003c/a\\u003e \\u0026copy; \\u003ca href=\\&quot;https://openmaptiles.org/\\&quot; target=\\&quot;_blank\\&quot;\\u003eOpenMapTiles\\u003c/a\\u003e \\u0026copy; \\u003ca href=\\&quot;https://www.openstreetmap.org/about/\\&quot; target=\\&quot;_blank\\&quot;\\u003eOpenStreetMap contributors\\u003c/a\\u003e&quot;, &quot;detectRetina&quot;: false, &quot;maxNativeZoom&quot;: 18, &quot;maxZoom&quot;: 18, &quot;minZoom&quot;: 0, &quot;noWrap&quot;: false, &quot;opacity&quot;: 1, &quot;subdomains&quot;: &quot;abc&quot;, &quot;tms&quot;: false}\n",
       "            ).addTo(map_7d80b8abd81f06848646c46c9cd74c10);\n",
       "        \n",
       "    \n",
       "            var tile_layer_da2d5d7a8029fded0b4f74d85f60869e = L.tileLayer(\n",
       "                &quot;https://tiles.stadiamaps.com/tiles/stamen_terrain/{z}/{x}/{y}{r}.jpg?api_key=87e81a5a-4136-409e-92dd-10c6a1a3cb9d&quot;,\n",
       "                {&quot;attribution&quot;: &quot;\\u0026copy; \\u003ca href=\\&quot;https://www.stadiamaps.com/\\&quot; target=\\&quot;_blank\\&quot;\\u003eStadia Maps\\u003c/a\\u003e \\u0026copy; \\u003ca href=\\&quot;https://www.stamen.com/\\&quot; target=\\&quot;_blank\\&quot;\\u003eStamen Design\\u003c/a\\u003e \\u0026copy; \\u003ca href=\\&quot;https://openmaptiles.org/\\&quot; target=\\&quot;_blank\\&quot;\\u003eOpenMapTiles\\u003c/a\\u003e \\u0026copy; \\u003ca href=\\&quot;https://www.openstreetmap.org/about/\\&quot; target=\\&quot;_blank\\&quot;\\u003eOpenStreetMap contributors\\u003c/a\\u003e&quot;, &quot;detectRetina&quot;: false, &quot;maxNativeZoom&quot;: 18, &quot;maxZoom&quot;: 18, &quot;minZoom&quot;: 0, &quot;noWrap&quot;: false, &quot;opacity&quot;: 1, &quot;subdomains&quot;: &quot;abc&quot;, &quot;tms&quot;: false}\n",
       "            ).addTo(map_7d80b8abd81f06848646c46c9cd74c10);\n",
       "        \n",
       "    \n",
       "            var tile_layer_bb0da5ceedfb98131dca13549e4df7cc = L.tileLayer(\n",
       "                &quot;https://tiles.stadiamaps.com/tiles/stamen_watercolor/{z}/{x}/{y}.jpg?api_key=87e81a5a-4136-409e-92dd-10c6a1a3cb9d&quot;,\n",
       "                {&quot;attribution&quot;: &quot;\\u0026copy; \\u003ca href=\\&quot;https://www.stadiamaps.com/\\&quot; target=\\&quot;_blank\\&quot;\\u003eStadia Maps\\u003c/a\\u003e \\u0026copy; \\u003ca href=\\&quot;https://www.stamen.com/\\&quot; target=\\&quot;_blank\\&quot;\\u003eStamen Design\\u003c/a\\u003e \\u0026copy; \\u003ca href=\\&quot;https://openmaptiles.org/\\&quot; target=\\&quot;_blank\\&quot;\\u003eOpenMapTiles\\u003c/a\\u003e \\u0026copy; \\u003ca href=\\&quot;https://www.openstreetmap.org/about/\\&quot; target=\\&quot;_blank\\&quot;\\u003eOpenStreetMap contributors\\u003c/a\\u003e&quot;, &quot;detectRetina&quot;: false, &quot;maxNativeZoom&quot;: 18, &quot;maxZoom&quot;: 18, &quot;minZoom&quot;: 0, &quot;noWrap&quot;: false, &quot;opacity&quot;: 1, &quot;subdomains&quot;: &quot;abc&quot;, &quot;tms&quot;: false}\n",
       "            ).addTo(map_7d80b8abd81f06848646c46c9cd74c10);\n",
       "        \n",
       "    \n",
       "            var layer_control_d09f2b796f809203f84c02367baa9e90 = {\n",
       "                base_layers : {\n",
       "                    &quot;Stamen Toner Lite&quot; : tile_layer_4259c14eef6565d924cea21e134ba2d3,\n",
       "                },\n",
       "                overlays :  {\n",
       "                    &quot;Google Maps&quot; : tile_layer_ce1acaf216c4d38220f31a2b9e5a1a3a,\n",
       "                    &quot;Google Satellite&quot; : tile_layer_4bbca2b7a8047294eaa50a6edd41829b,\n",
       "                    &quot;Google Terrain&quot; : tile_layer_114ac19a7d3a03da7ef5b292f4490559,\n",
       "                    &quot;Esri Satellite&quot; : tile_layer_c8fb2c2c7c96c92e2b40762a7e906244,\n",
       "                    &quot;cartodbpositron&quot; : tile_layer_b05ee8bcd367bdcbb9401966f6bb0b6c,\n",
       "                    &quot;Stamen Toner&quot; : tile_layer_cd6ae043bd6366cbc8e612284d66b071,\n",
       "                    &quot;Stamen Terrain&quot; : tile_layer_da2d5d7a8029fded0b4f74d85f60869e,\n",
       "                    &quot;Stamen Watercolor&quot; : tile_layer_bb0da5ceedfb98131dca13549e4df7cc,\n",
       "                },\n",
       "            };\n",
       "            L.control.layers(\n",
       "                layer_control_d09f2b796f809203f84c02367baa9e90.base_layers,\n",
       "                layer_control_d09f2b796f809203f84c02367baa9e90.overlays,\n",
       "                {&quot;autoZIndex&quot;: true, &quot;collapsed&quot;: true, &quot;position&quot;: &quot;topright&quot;}\n",
       "            ).addTo(map_7d80b8abd81f06848646c46c9cd74c10);\n",
       "            tile_layer_ce1acaf216c4d38220f31a2b9e5a1a3a.remove();\n",
       "            tile_layer_4bbca2b7a8047294eaa50a6edd41829b.remove();\n",
       "            tile_layer_114ac19a7d3a03da7ef5b292f4490559.remove();\n",
       "            tile_layer_c8fb2c2c7c96c92e2b40762a7e906244.remove();\n",
       "            tile_layer_b05ee8bcd367bdcbb9401966f6bb0b6c.remove();\n",
       "            tile_layer_cd6ae043bd6366cbc8e612284d66b071.remove();\n",
       "            tile_layer_da2d5d7a8029fded0b4f74d85f60869e.remove();\n",
       "            tile_layer_bb0da5ceedfb98131dca13549e4df7cc.remove();\n",
       "        \n",
       "    \n",
       "            var circle_marker_925e8cb0b0154cffff4b7258ca1a4204 = L.circleMarker(\n",
       "                [55.220894912282674, -125.02394547369838],\n",
       "                {&quot;bubblingMouseEvents&quot;: true, &quot;color&quot;: &quot;red&quot;, &quot;dashArray&quot;: null, &quot;dashOffset&quot;: null, &quot;fill&quot;: false, &quot;fillColor&quot;: &quot;red&quot;, &quot;fillOpacity&quot;: 0.2, &quot;fillRule&quot;: &quot;evenodd&quot;, &quot;lineCap&quot;: &quot;round&quot;, &quot;lineJoin&quot;: &quot;round&quot;, &quot;opacity&quot;: 1.0, &quot;radius&quot;: 10, &quot;stroke&quot;: true, &quot;weight&quot;: 2}\n",
       "            ).addTo(map_7d80b8abd81f06848646c46c9cd74c10);\n",
       "        \n",
       "    \n",
       "            var circle_marker_2cd2632c0453097e88f5cd0735fd0f21 = L.circleMarker(\n",
       "                [55.1844698, -125.1106256],\n",
       "                {&quot;bubblingMouseEvents&quot;: true, &quot;color&quot;: &quot;gray&quot;, &quot;dashArray&quot;: null, &quot;dashOffset&quot;: null, &quot;fill&quot;: false, &quot;fillColor&quot;: &quot;gray&quot;, &quot;fillOpacity&quot;: 0.2, &quot;fillRule&quot;: &quot;evenodd&quot;, &quot;lineCap&quot;: &quot;round&quot;, &quot;lineJoin&quot;: &quot;round&quot;, &quot;opacity&quot;: 1.0, &quot;radius&quot;: 10, &quot;stroke&quot;: true, &quot;weight&quot;: 2}\n",
       "            ).addTo(map_7d80b8abd81f06848646c46c9cd74c10);\n",
       "        \n",
       "    \n",
       "            var circle_marker_9489242cf34f1beaa6f91812ce5f3809 = L.circleMarker(\n",
       "                [55.2018961, -124.803282],\n",
       "                {&quot;bubblingMouseEvents&quot;: true, &quot;color&quot;: &quot;gray&quot;, &quot;dashArray&quot;: null, &quot;dashOffset&quot;: null, &quot;fill&quot;: false, &quot;fillColor&quot;: &quot;gray&quot;, &quot;fillOpacity&quot;: 0.2, &quot;fillRule&quot;: &quot;evenodd&quot;, &quot;lineCap&quot;: &quot;round&quot;, &quot;lineJoin&quot;: &quot;round&quot;, &quot;opacity&quot;: 1.0, &quot;radius&quot;: 10, &quot;stroke&quot;: true, &quot;weight&quot;: 2}\n",
       "            ).addTo(map_7d80b8abd81f06848646c46c9cd74c10);\n",
       "        \n",
       "    \n",
       "            var circle_marker_29d6407d7bf2807d55b2ad0bd7f46221 = L.circleMarker(\n",
       "                [55.2224236, -124.8436385],\n",
       "                {&quot;bubblingMouseEvents&quot;: true, &quot;color&quot;: &quot;gray&quot;, &quot;dashArray&quot;: null, &quot;dashOffset&quot;: null, &quot;fill&quot;: false, &quot;fillColor&quot;: &quot;gray&quot;, &quot;fillOpacity&quot;: 0.2, &quot;fillRule&quot;: &quot;evenodd&quot;, &quot;lineCap&quot;: &quot;round&quot;, &quot;lineJoin&quot;: &quot;round&quot;, &quot;opacity&quot;: 1.0, &quot;radius&quot;: 10, &quot;stroke&quot;: true, &quot;weight&quot;: 2}\n",
       "            ).addTo(map_7d80b8abd81f06848646c46c9cd74c10);\n",
       "        \n",
       "    \n",
       "            var circle_marker_882a1d4cbe2efc740cc65d4727edb913 = L.circleMarker(\n",
       "                [55.2105895, -124.8862749],\n",
       "                {&quot;bubblingMouseEvents&quot;: true, &quot;color&quot;: &quot;gray&quot;, &quot;dashArray&quot;: null, &quot;dashOffset&quot;: null, &quot;fill&quot;: false, &quot;fillColor&quot;: &quot;gray&quot;, &quot;fillOpacity&quot;: 0.2, &quot;fillRule&quot;: &quot;evenodd&quot;, &quot;lineCap&quot;: &quot;round&quot;, &quot;lineJoin&quot;: &quot;round&quot;, &quot;opacity&quot;: 1.0, &quot;radius&quot;: 10, &quot;stroke&quot;: true, &quot;weight&quot;: 2}\n",
       "            ).addTo(map_7d80b8abd81f06848646c46c9cd74c10);\n",
       "        \n",
       "    \n",
       "            var circle_marker_7216b090d9931ad74296c6d929efc686 = L.circleMarker(\n",
       "                [55.2265021, -124.8984575],\n",
       "                {&quot;bubblingMouseEvents&quot;: true, &quot;color&quot;: &quot;gray&quot;, &quot;dashArray&quot;: null, &quot;dashOffset&quot;: null, &quot;fill&quot;: false, &quot;fillColor&quot;: &quot;gray&quot;, &quot;fillOpacity&quot;: 0.2, &quot;fillRule&quot;: &quot;evenodd&quot;, &quot;lineCap&quot;: &quot;round&quot;, &quot;lineJoin&quot;: &quot;round&quot;, &quot;opacity&quot;: 1.0, &quot;radius&quot;: 10, &quot;stroke&quot;: true, &quot;weight&quot;: 2}\n",
       "            ).addTo(map_7d80b8abd81f06848646c46c9cd74c10);\n",
       "        \n",
       "    \n",
       "            var circle_marker_47b8286b6c11ab75f7da3219f86229ff = L.circleMarker(\n",
       "                [55.2206274, -124.9142933],\n",
       "                {&quot;bubblingMouseEvents&quot;: true, &quot;color&quot;: &quot;gray&quot;, &quot;dashArray&quot;: null, &quot;dashOffset&quot;: null, &quot;fill&quot;: false, &quot;fillColor&quot;: &quot;gray&quot;, &quot;fillOpacity&quot;: 0.2, &quot;fillRule&quot;: &quot;evenodd&quot;, &quot;lineCap&quot;: &quot;round&quot;, &quot;lineJoin&quot;: &quot;round&quot;, &quot;opacity&quot;: 1.0, &quot;radius&quot;: 10, &quot;stroke&quot;: true, &quot;weight&quot;: 2}\n",
       "            ).addTo(map_7d80b8abd81f06848646c46c9cd74c10);\n",
       "        \n",
       "    \n",
       "            var circle_marker_e4ae607f33558e6b52e73e6b3a265929 = L.circleMarker(\n",
       "                [55.2135675, -124.9466729],\n",
       "                {&quot;bubblingMouseEvents&quot;: true, &quot;color&quot;: &quot;gray&quot;, &quot;dashArray&quot;: null, &quot;dashOffset&quot;: null, &quot;fill&quot;: false, &quot;fillColor&quot;: &quot;gray&quot;, &quot;fillOpacity&quot;: 0.2, &quot;fillRule&quot;: &quot;evenodd&quot;, &quot;lineCap&quot;: &quot;round&quot;, &quot;lineJoin&quot;: &quot;round&quot;, &quot;opacity&quot;: 1.0, &quot;radius&quot;: 10, &quot;stroke&quot;: true, &quot;weight&quot;: 2}\n",
       "            ).addTo(map_7d80b8abd81f06848646c46c9cd74c10);\n",
       "        \n",
       "    \n",
       "            var circle_marker_b9810c9fcb75cfa649d1995f7d1757f6 = L.circleMarker(\n",
       "                [55.1913451, -124.9725616],\n",
       "                {&quot;bubblingMouseEvents&quot;: true, &quot;color&quot;: &quot;gray&quot;, &quot;dashArray&quot;: null, &quot;dashOffset&quot;: null, &quot;fill&quot;: false, &quot;fillColor&quot;: &quot;gray&quot;, &quot;fillOpacity&quot;: 0.2, &quot;fillRule&quot;: &quot;evenodd&quot;, &quot;lineCap&quot;: &quot;round&quot;, &quot;lineJoin&quot;: &quot;round&quot;, &quot;opacity&quot;: 1.0, &quot;radius&quot;: 10, &quot;stroke&quot;: true, &quot;weight&quot;: 2}\n",
       "            ).addTo(map_7d80b8abd81f06848646c46c9cd74c10);\n",
       "        \n",
       "    \n",
       "            var circle_marker_582dab93fc91fda45a5e11df043993c2 = L.circleMarker(\n",
       "                [55.1962872, -125.0631934],\n",
       "                {&quot;bubblingMouseEvents&quot;: true, &quot;color&quot;: &quot;gray&quot;, &quot;dashArray&quot;: null, &quot;dashOffset&quot;: null, &quot;fill&quot;: false, &quot;fillColor&quot;: &quot;gray&quot;, &quot;fillOpacity&quot;: 0.2, &quot;fillRule&quot;: &quot;evenodd&quot;, &quot;lineCap&quot;: &quot;round&quot;, &quot;lineJoin&quot;: &quot;round&quot;, &quot;opacity&quot;: 1.0, &quot;radius&quot;: 10, &quot;stroke&quot;: true, &quot;weight&quot;: 2}\n",
       "            ).addTo(map_7d80b8abd81f06848646c46c9cd74c10);\n",
       "        \n",
       "    \n",
       "            var circle_marker_6a203dc20d4c3cd0e96e2669aeb4e5a5 = L.circleMarker(\n",
       "                [55.1838174, -125.1274645],\n",
       "                {&quot;bubblingMouseEvents&quot;: true, &quot;color&quot;: &quot;gray&quot;, &quot;dashArray&quot;: null, &quot;dashOffset&quot;: null, &quot;fill&quot;: false, &quot;fillColor&quot;: &quot;gray&quot;, &quot;fillOpacity&quot;: 0.2, &quot;fillRule&quot;: &quot;evenodd&quot;, &quot;lineCap&quot;: &quot;round&quot;, &quot;lineJoin&quot;: &quot;round&quot;, &quot;opacity&quot;: 1.0, &quot;radius&quot;: 10, &quot;stroke&quot;: true, &quot;weight&quot;: 2}\n",
       "            ).addTo(map_7d80b8abd81f06848646c46c9cd74c10);\n",
       "        \n",
       "    \n",
       "            var circle_marker_9e82ef21518ae412302fc111e1f8e5b6 = L.circleMarker(\n",
       "                [55.1961402, -125.1348352],\n",
       "                {&quot;bubblingMouseEvents&quot;: true, &quot;color&quot;: &quot;gray&quot;, &quot;dashArray&quot;: null, &quot;dashOffset&quot;: null, &quot;fill&quot;: false, &quot;fillColor&quot;: &quot;gray&quot;, &quot;fillOpacity&quot;: 0.2, &quot;fillRule&quot;: &quot;evenodd&quot;, &quot;lineCap&quot;: &quot;round&quot;, &quot;lineJoin&quot;: &quot;round&quot;, &quot;opacity&quot;: 1.0, &quot;radius&quot;: 10, &quot;stroke&quot;: true, &quot;weight&quot;: 2}\n",
       "            ).addTo(map_7d80b8abd81f06848646c46c9cd74c10);\n",
       "        \n",
       "    \n",
       "            var circle_marker_d6e40798d7ea2cb248b699b3fa22e2a1 = L.circleMarker(\n",
       "                [55.1816627, -125.1413396],\n",
       "                {&quot;bubblingMouseEvents&quot;: true, &quot;color&quot;: &quot;gray&quot;, &quot;dashArray&quot;: null, &quot;dashOffset&quot;: null, &quot;fill&quot;: false, &quot;fillColor&quot;: &quot;gray&quot;, &quot;fillOpacity&quot;: 0.2, &quot;fillRule&quot;: &quot;evenodd&quot;, &quot;lineCap&quot;: &quot;round&quot;, &quot;lineJoin&quot;: &quot;round&quot;, &quot;opacity&quot;: 1.0, &quot;radius&quot;: 10, &quot;stroke&quot;: true, &quot;weight&quot;: 2}\n",
       "            ).addTo(map_7d80b8abd81f06848646c46c9cd74c10);\n",
       "        \n",
       "    \n",
       "            var circle_marker_c0d67787fdc8e7af88d608b7f3cd46b3 = L.circleMarker(\n",
       "                [55.2023247, -125.1553703],\n",
       "                {&quot;bubblingMouseEvents&quot;: true, &quot;color&quot;: &quot;gray&quot;, &quot;dashArray&quot;: null, &quot;dashOffset&quot;: null, &quot;fill&quot;: false, &quot;fillColor&quot;: &quot;gray&quot;, &quot;fillOpacity&quot;: 0.2, &quot;fillRule&quot;: &quot;evenodd&quot;, &quot;lineCap&quot;: &quot;round&quot;, &quot;lineJoin&quot;: &quot;round&quot;, &quot;opacity&quot;: 1.0, &quot;radius&quot;: 10, &quot;stroke&quot;: true, &quot;weight&quot;: 2}\n",
       "            ).addTo(map_7d80b8abd81f06848646c46c9cd74c10);\n",
       "        \n",
       "    \n",
       "            var circle_marker_cdfad98e104db3007010d73dae24604e = L.circleMarker(\n",
       "                [55.2004204, -125.1911402],\n",
       "                {&quot;bubblingMouseEvents&quot;: true, &quot;color&quot;: &quot;gray&quot;, &quot;dashArray&quot;: null, &quot;dashOffset&quot;: null, &quot;fill&quot;: false, &quot;fillColor&quot;: &quot;gray&quot;, &quot;fillOpacity&quot;: 0.2, &quot;fillRule&quot;: &quot;evenodd&quot;, &quot;lineCap&quot;: &quot;round&quot;, &quot;lineJoin&quot;: &quot;round&quot;, &quot;opacity&quot;: 1.0, &quot;radius&quot;: 10, &quot;stroke&quot;: true, &quot;weight&quot;: 2}\n",
       "            ).addTo(map_7d80b8abd81f06848646c46c9cd74c10);\n",
       "        \n",
       "    \n",
       "            var circle_marker_f6cb281c5d93242478138683a5d2c3a2 = L.circleMarker(\n",
       "                [55.2193307, -125.2340998],\n",
       "                {&quot;bubblingMouseEvents&quot;: true, &quot;color&quot;: &quot;gray&quot;, &quot;dashArray&quot;: null, &quot;dashOffset&quot;: null, &quot;fill&quot;: false, &quot;fillColor&quot;: &quot;gray&quot;, &quot;fillOpacity&quot;: 0.2, &quot;fillRule&quot;: &quot;evenodd&quot;, &quot;lineCap&quot;: &quot;round&quot;, &quot;lineJoin&quot;: &quot;round&quot;, &quot;opacity&quot;: 1.0, &quot;radius&quot;: 10, &quot;stroke&quot;: true, &quot;weight&quot;: 2}\n",
       "            ).addTo(map_7d80b8abd81f06848646c46c9cd74c10);\n",
       "        \n",
       "    \n",
       "            var circle_marker_bb81741c2dcaf54925f5a919e9b5168e = L.circleMarker(\n",
       "                [55.2294238, -125.2479279],\n",
       "                {&quot;bubblingMouseEvents&quot;: true, &quot;color&quot;: &quot;gray&quot;, &quot;dashArray&quot;: null, &quot;dashOffset&quot;: null, &quot;fill&quot;: false, &quot;fillColor&quot;: &quot;gray&quot;, &quot;fillOpacity&quot;: 0.2, &quot;fillRule&quot;: &quot;evenodd&quot;, &quot;lineCap&quot;: &quot;round&quot;, &quot;lineJoin&quot;: &quot;round&quot;, &quot;opacity&quot;: 1.0, &quot;radius&quot;: 10, &quot;stroke&quot;: true, &quot;weight&quot;: 2}\n",
       "            ).addTo(map_7d80b8abd81f06848646c46c9cd74c10);\n",
       "        \n",
       "    \n",
       "            var circle_marker_7f508b327f30f83283b9367a67ff9241 = L.circleMarker(\n",
       "                [55.2470781, -125.2075714],\n",
       "                {&quot;bubblingMouseEvents&quot;: true, &quot;color&quot;: &quot;gray&quot;, &quot;dashArray&quot;: null, &quot;dashOffset&quot;: null, &quot;fill&quot;: false, &quot;fillColor&quot;: &quot;gray&quot;, &quot;fillOpacity&quot;: 0.2, &quot;fillRule&quot;: &quot;evenodd&quot;, &quot;lineCap&quot;: &quot;round&quot;, &quot;lineJoin&quot;: &quot;round&quot;, &quot;opacity&quot;: 1.0, &quot;radius&quot;: 10, &quot;stroke&quot;: true, &quot;weight&quot;: 2}\n",
       "            ).addTo(map_7d80b8abd81f06848646c46c9cd74c10);\n",
       "        \n",
       "    \n",
       "            var circle_marker_6d4290b50054fcfc22be24b6ce2bf960 = L.circleMarker(\n",
       "                [55.2696155, -125.2320895],\n",
       "                {&quot;bubblingMouseEvents&quot;: true, &quot;color&quot;: &quot;gray&quot;, &quot;dashArray&quot;: null, &quot;dashOffset&quot;: null, &quot;fill&quot;: false, &quot;fillColor&quot;: &quot;gray&quot;, &quot;fillOpacity&quot;: 0.2, &quot;fillRule&quot;: &quot;evenodd&quot;, &quot;lineCap&quot;: &quot;round&quot;, &quot;lineJoin&quot;: &quot;round&quot;, &quot;opacity&quot;: 1.0, &quot;radius&quot;: 10, &quot;stroke&quot;: true, &quot;weight&quot;: 2}\n",
       "            ).addTo(map_7d80b8abd81f06848646c46c9cd74c10);\n",
       "        \n",
       "    \n",
       "            var marker_1d53ae55b59bacdf7063673124a68125 = L.marker(\n",
       "                [55.220894912282674, -125.02394547369838],\n",
       "                {}\n",
       "            ).addTo(map_7d80b8abd81f06848646c46c9cd74c10);\n",
       "        \n",
       "    \n",
       "            var div_icon_c7588b8e35c9d3de4d4ef626e8342c4b = L.divIcon({&quot;className&quot;: &quot;empty&quot;, &quot;html&quot;: &quot;\\u003cdiv style=\\&quot;font-size: 40pt; color:black\\&quot;\\u003eTchentlo Lake\\u003c/div\\u003e&quot;, &quot;iconAnchor&quot;: [100, 200], &quot;iconSize&quot;: [400, 30]});\n",
       "            marker_1d53ae55b59bacdf7063673124a68125.setIcon(div_icon_c7588b8e35c9d3de4d4ef626e8342c4b);\n",
       "        \n",
       "&lt;/script&gt;\n",
       "&lt;/html&gt;\" style=\"position:absolute;width:100%;height:100%;left:0;top:0;border:none !important;\" allowfullscreen webkitallowfullscreen mozallowfullscreen></iframe></div></div>"
      ],
      "text/plain": [
       "<folium.folium.Map at 0x139ddf2e0>"
      ]
     },
     "execution_count": 19,
     "metadata": {},
     "output_type": "execute_result"
    }
   ],
   "source": [
    "lake = lakes[2]\n",
    "font_color = \"black\"\n",
    "tiles = build_tiles()\n",
    "\n",
    "# set base tile layer\n",
    "base_tile_name = 'Stamen Toner Lite'\n",
    "\n",
    "#Create the map\n",
    "map_centre = [lake[\"lat\"], lake[\"lon\"]]\n",
    "zoom_level = cx.tile._calculate_zoom(lake[\"west\"], lake[\"south\"], lake[\"east\"], lake[\"north\"])\n",
    "print(f\"zoom_level={zoom_level}\")\n",
    "m = folium.Map(\n",
    "    location = map_centre, \n",
    "    zoom_start = zoom_level-2, \n",
    "    min_zoom = 8, \n",
    "    max_zoom = 22, \n",
    "    tiles=None,\n",
    "    control_scale=True,\n",
    "    zoom_control=False,\n",
    ")\n",
    "\n",
    "# add tiles\n",
    "for tile_name in tiles:\n",
    "    tile_layer = tiles[tile_name]\n",
    "    if tile_name == base_tile_name:\n",
    "        tile_layer.overlay = False  # sets as base layer\n",
    "        tile_layer.show = True      # shows on load\n",
    "    else:\n",
    "        tile_layer.overlay = True\n",
    "        tile_layer.show = False\n",
    "    if tile_name == \"Stamen Terrain\":\n",
    "        tile_layer.opacity = 0.1\n",
    "    tile_layer.add_to(m)\n",
    "    \n",
    "# add layer control element\n",
    "folium.LayerControl().add_to(m)\n",
    "\n",
    "# add centre marker\n",
    "folium.CircleMarker(location=map_centre, radius=10, weight=2, color = \"red\").add_to(m)\n",
    "\n",
    "# get campsites\n",
    "result = get_nwr_in_bbox(\n",
    "    lake[\"south\"],lake[\"west\"],lake[\"north\"],lake[\"east\"], \n",
    "    key=\"tourism\", \n",
    "    value=\"camp_site\")\n",
    "nodes = result.nodes\n",
    "print(f\"{len(nodes)} nodes\")\n",
    "\n",
    "# add points at each node\n",
    "for node in nodes:\n",
    "    # location markers\n",
    "    folium.CircleMarker(location=[node.lat, node.lon], radius=10, weight=2, color = \"gray\").add_to(m)\n",
    "    # folium.Marker([node.lat, node.lon], icon = folium.Icon(color = \"blue\", icon='campground', prefix='fa')).add_to(m)\n",
    "    \n",
    "# Map title\n",
    "icon=DivIcon(icon_size=(400,30), icon_anchor=(100,200), html=f'<div style=\"font-size: 40pt; color:{font_color}\">{lake[\"name\"]}</div>',)\n",
    "folium.map.Marker([lake[\"lat\"], lake[\"lon\"]], icon=icon).add_to(m)\n",
    "# m.fit_bounds([lake[\"west\"], lake[\"south\"]], [lake[\"east\"], lake[\"north\"]])\n",
    "m"
   ]
  },
  {
   "cell_type": "code",
   "execution_count": 325,
   "id": "9aa637ab-e697-4336-937d-898614ef1d08",
   "metadata": {},
   "outputs": [],
   "source": [
    "# Save to png\n",
    "\n",
    "import io\n",
    "from PIL import Image\n",
    "\n",
    "img_data = m._to_png(5)\n",
    "img = Image.open(io.BytesIO(img_data))\n",
    "img.save(f'{lake[\"name\"]}.png')"
   ]
  },
  {
   "cell_type": "code",
   "execution_count": 20,
   "id": "85db8c13-1a53-40b1-8be1-caebbe016d42",
   "metadata": {},
   "outputs": [
    {
     "name": "stdout",
     "output_type": "stream",
     "text": [
      "/Users/trevorkinsey/reliance/trevor/mapping\n"
     ]
    }
   ],
   "source": [
    "!pwd"
   ]
  },
  {
   "cell_type": "code",
   "execution_count": 21,
   "id": "d664bafd-46a3-424c-878b-2dfe20e2fefe",
   "metadata": {},
   "outputs": [],
   "source": [
    "result = get_nwr_in_bbox(lake[\"south\"],lake[\"west\"],lake[\"north\"],lake[\"east\"], key=\"tourism\", value=\"camp_site\")\n"
   ]
  },
  {
   "cell_type": "code",
   "execution_count": 7,
   "id": "1ae35966-0021-4608-8757-a354a0f18ecf",
   "metadata": {},
   "outputs": [
    {
     "data": {
      "text/plain": [
       "[<overpy.Node id=7579029096 lat=55.1844698 lon=-125.1106256>,\n",
       " <overpy.Node id=7579029097 lat=55.2018961 lon=-124.8032820>,\n",
       " <overpy.Node id=7579029098 lat=55.2224236 lon=-124.8436385>,\n",
       " <overpy.Node id=7579029099 lat=55.2105895 lon=-124.8862749>,\n",
       " <overpy.Node id=7579029100 lat=55.2265021 lon=-124.8984575>,\n",
       " <overpy.Node id=7579029101 lat=55.2206274 lon=-124.9142933>,\n",
       " <overpy.Node id=7579029102 lat=55.2135675 lon=-124.9466729>,\n",
       " <overpy.Node id=7579029103 lat=55.1913451 lon=-124.9725616>,\n",
       " <overpy.Node id=7579029105 lat=55.1962872 lon=-125.0631934>,\n",
       " <overpy.Node id=7579029106 lat=55.1838174 lon=-125.1274645>,\n",
       " <overpy.Node id=7579029107 lat=55.1961402 lon=-125.1348352>,\n",
       " <overpy.Node id=7579029108 lat=55.1816627 lon=-125.1413396>,\n",
       " <overpy.Node id=7579029109 lat=55.2023247 lon=-125.1553703>,\n",
       " <overpy.Node id=7579029110 lat=55.2004204 lon=-125.1911402>,\n",
       " <overpy.Node id=7579029111 lat=55.2193307 lon=-125.2340998>,\n",
       " <overpy.Node id=7579029114 lat=55.2294238 lon=-125.2479279>,\n",
       " <overpy.Node id=7579029115 lat=55.2470781 lon=-125.2075714>,\n",
       " <overpy.Node id=7579029116 lat=55.2696155 lon=-125.2320895>]"
      ]
     },
     "execution_count": 7,
     "metadata": {},
     "output_type": "execute_result"
    }
   ],
   "source": [
    "nodes"
   ]
  },
  {
   "cell_type": "code",
   "execution_count": null,
   "id": "4b37e047-ada8-4ffb-9f25-6e83bee0ade5",
   "metadata": {},
   "outputs": [],
   "source": []
  },
  {
   "cell_type": "code",
   "execution_count": 8,
   "id": "471d253b-1b27-4336-8f47-266699923899",
   "metadata": {},
   "outputs": [
    {
     "data": {
      "text/plain": [
       "[]"
      ]
     },
     "execution_count": 8,
     "metadata": {},
     "output_type": "execute_result"
    }
   ],
   "source": [
    "result.ways\n",
    "\n"
   ]
  },
  {
   "cell_type": "code",
   "execution_count": 109,
   "id": "809ea03c-cdc3-4c44-ae3e-86b42ce02486",
   "metadata": {},
   "outputs": [
    {
     "data": {
      "text/plain": [
       "[<overpy.Relation id=8515761>]"
      ]
     },
     "execution_count": 109,
     "metadata": {},
     "output_type": "execute_result"
    }
   ],
   "source": [
    "result.relations\n"
   ]
  },
  {
   "cell_type": "code",
   "execution_count": 107,
   "id": "fa786ff5-ee38-430e-97ab-aead94abcf3c",
   "metadata": {},
   "outputs": [
    {
     "data": {
      "text/plain": [
       "overpy.Result"
      ]
     },
     "execution_count": 107,
     "metadata": {},
     "output_type": "execute_result"
    }
   ],
   "source": [
    "type(result)"
   ]
  },
  {
   "cell_type": "code",
   "execution_count": null,
   "id": "96d84034-9af7-44d7-ac69-e0a54981a454",
   "metadata": {},
   "outputs": [],
   "source": []
  },
  {
   "cell_type": "code",
   "execution_count": null,
   "id": "32171d26-1489-4cc0-a379-7f41264e20e5",
   "metadata": {},
   "outputs": [],
   "source": []
  },
  {
   "cell_type": "code",
   "execution_count": null,
   "id": "3b2643eb-e25e-4e4e-93b5-46fd4ac3d52f",
   "metadata": {},
   "outputs": [],
   "source": []
  },
  {
   "cell_type": "code",
   "execution_count": null,
   "id": "53e2e324-7ce7-4a62-8e1d-c84f0acfe4cf",
   "metadata": {},
   "outputs": [],
   "source": []
  },
  {
   "cell_type": "code",
   "execution_count": 107,
   "id": "5546e5e6-e5af-46b6-a26f-b59765efc206",
   "metadata": {},
   "outputs": [],
   "source": [
    "# Save to png\n",
    "\n",
    "# import io\n",
    "# from PIL import Image\n",
    "\n",
    "# img_data = m._to_png(5)\n",
    "# img = Image.open(io.BytesIO(img_data))\n",
    "# img.save('folium-export.png')"
   ]
  },
  {
   "cell_type": "code",
   "execution_count": null,
   "id": "ac6e5ec6-eeb6-45e3-bbb2-e85d61c4ca39",
   "metadata": {},
   "outputs": [],
   "source": []
  },
  {
   "cell_type": "code",
   "execution_count": null,
   "id": "42ac49e0-8e4a-48d7-b1e0-f17264d3cf30",
   "metadata": {},
   "outputs": [],
   "source": []
  },
  {
   "cell_type": "code",
   "execution_count": null,
   "id": "814955b8-06a1-4917-bbc7-15958cb95f6f",
   "metadata": {},
   "outputs": [],
   "source": []
  }
 ],
 "metadata": {
  "kernelspec": {
   "display_name": "Python [conda env:routing]",
   "language": "python",
   "name": "conda-env-routing-py"
  },
  "language_info": {
   "codemirror_mode": {
    "name": "ipython",
    "version": 3
   },
   "file_extension": ".py",
   "mimetype": "text/x-python",
   "name": "python",
   "nbconvert_exporter": "python",
   "pygments_lexer": "ipython3",
   "version": "3.9.15"
  }
 },
 "nbformat": 4,
 "nbformat_minor": 5
}
